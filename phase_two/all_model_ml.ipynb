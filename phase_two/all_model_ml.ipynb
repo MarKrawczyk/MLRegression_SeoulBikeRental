{
 "cells": [
  {
   "cell_type": "code",
   "execution_count": 102,
   "metadata": {},
   "outputs": [],
   "source": [
    "### IMPORT LIBRARIES ###\n",
    "import pandas as pd\n",
    "import numpy as np\n",
    "import matplotlib.pyplot as plt\n",
    "from sklearn.model_selection import train_test_split, KFold, cross_val_score, GridSearchCV, RandomizedSearchCV\n",
    "from sklearn.metrics import mean_squared_error, r2_score\n",
    "from sklearn.preprocessing import StandardScaler\n",
    "from sklearn.preprocessing import OneHotEncoder"
   ]
  },
  {
   "cell_type": "markdown",
   "metadata": {},
   "source": [
    "## import the dataset"
   ]
  },
  {
   "cell_type": "code",
   "execution_count": 103,
   "metadata": {},
   "outputs": [
    {
     "data": {
      "text/html": [
       "<div>\n",
       "<style scoped>\n",
       "    .dataframe tbody tr th:only-of-type {\n",
       "        vertical-align: middle;\n",
       "    }\n",
       "\n",
       "    .dataframe tbody tr th {\n",
       "        vertical-align: top;\n",
       "    }\n",
       "\n",
       "    .dataframe thead th {\n",
       "        text-align: right;\n",
       "    }\n",
       "</style>\n",
       "<table border=\"1\" class=\"dataframe\">\n",
       "  <thead>\n",
       "    <tr style=\"text-align: right;\">\n",
       "      <th></th>\n",
       "      <th>Date</th>\n",
       "      <th>Rented Bike Count</th>\n",
       "      <th>Hour</th>\n",
       "      <th>Temperature(°C)</th>\n",
       "      <th>Humidity(%)</th>\n",
       "      <th>Wind speed (m/s)</th>\n",
       "      <th>Visibility (10m)</th>\n",
       "      <th>Dew point temperature(°C)</th>\n",
       "      <th>Solar Radiation (MJ/m2)</th>\n",
       "      <th>Rainfall(mm)</th>\n",
       "      <th>Snowfall (cm)</th>\n",
       "      <th>Seasons</th>\n",
       "      <th>Holiday</th>\n",
       "      <th>Functioning Day</th>\n",
       "    </tr>\n",
       "  </thead>\n",
       "  <tbody>\n",
       "    <tr>\n",
       "      <th>0</th>\n",
       "      <td>01/12/2017</td>\n",
       "      <td>254</td>\n",
       "      <td>0</td>\n",
       "      <td>-5.2</td>\n",
       "      <td>37</td>\n",
       "      <td>2.2</td>\n",
       "      <td>2000</td>\n",
       "      <td>-17.6</td>\n",
       "      <td>0.0</td>\n",
       "      <td>0.0</td>\n",
       "      <td>0.0</td>\n",
       "      <td>Winter</td>\n",
       "      <td>No Holiday</td>\n",
       "      <td>Yes</td>\n",
       "    </tr>\n",
       "    <tr>\n",
       "      <th>1</th>\n",
       "      <td>01/12/2017</td>\n",
       "      <td>204</td>\n",
       "      <td>1</td>\n",
       "      <td>-5.5</td>\n",
       "      <td>38</td>\n",
       "      <td>0.8</td>\n",
       "      <td>2000</td>\n",
       "      <td>-17.6</td>\n",
       "      <td>0.0</td>\n",
       "      <td>0.0</td>\n",
       "      <td>0.0</td>\n",
       "      <td>Winter</td>\n",
       "      <td>No Holiday</td>\n",
       "      <td>Yes</td>\n",
       "    </tr>\n",
       "    <tr>\n",
       "      <th>2</th>\n",
       "      <td>01/12/2017</td>\n",
       "      <td>173</td>\n",
       "      <td>2</td>\n",
       "      <td>-6.0</td>\n",
       "      <td>39</td>\n",
       "      <td>1.0</td>\n",
       "      <td>2000</td>\n",
       "      <td>-17.7</td>\n",
       "      <td>0.0</td>\n",
       "      <td>0.0</td>\n",
       "      <td>0.0</td>\n",
       "      <td>Winter</td>\n",
       "      <td>No Holiday</td>\n",
       "      <td>Yes</td>\n",
       "    </tr>\n",
       "    <tr>\n",
       "      <th>3</th>\n",
       "      <td>01/12/2017</td>\n",
       "      <td>107</td>\n",
       "      <td>3</td>\n",
       "      <td>-6.2</td>\n",
       "      <td>40</td>\n",
       "      <td>0.9</td>\n",
       "      <td>2000</td>\n",
       "      <td>-17.6</td>\n",
       "      <td>0.0</td>\n",
       "      <td>0.0</td>\n",
       "      <td>0.0</td>\n",
       "      <td>Winter</td>\n",
       "      <td>No Holiday</td>\n",
       "      <td>Yes</td>\n",
       "    </tr>\n",
       "    <tr>\n",
       "      <th>4</th>\n",
       "      <td>01/12/2017</td>\n",
       "      <td>78</td>\n",
       "      <td>4</td>\n",
       "      <td>-6.0</td>\n",
       "      <td>36</td>\n",
       "      <td>2.3</td>\n",
       "      <td>2000</td>\n",
       "      <td>-18.6</td>\n",
       "      <td>0.0</td>\n",
       "      <td>0.0</td>\n",
       "      <td>0.0</td>\n",
       "      <td>Winter</td>\n",
       "      <td>No Holiday</td>\n",
       "      <td>Yes</td>\n",
       "    </tr>\n",
       "  </tbody>\n",
       "</table>\n",
       "</div>"
      ],
      "text/plain": [
       "         Date  Rented Bike Count  Hour  Temperature(°C)  Humidity(%)  \\\n",
       "0  01/12/2017                254     0             -5.2           37   \n",
       "1  01/12/2017                204     1             -5.5           38   \n",
       "2  01/12/2017                173     2             -6.0           39   \n",
       "3  01/12/2017                107     3             -6.2           40   \n",
       "4  01/12/2017                 78     4             -6.0           36   \n",
       "\n",
       "   Wind speed (m/s)  Visibility (10m)  Dew point temperature(°C)  \\\n",
       "0               2.2              2000                      -17.6   \n",
       "1               0.8              2000                      -17.6   \n",
       "2               1.0              2000                      -17.7   \n",
       "3               0.9              2000                      -17.6   \n",
       "4               2.3              2000                      -18.6   \n",
       "\n",
       "   Solar Radiation (MJ/m2)  Rainfall(mm)  Snowfall (cm) Seasons     Holiday  \\\n",
       "0                      0.0           0.0            0.0  Winter  No Holiday   \n",
       "1                      0.0           0.0            0.0  Winter  No Holiday   \n",
       "2                      0.0           0.0            0.0  Winter  No Holiday   \n",
       "3                      0.0           0.0            0.0  Winter  No Holiday   \n",
       "4                      0.0           0.0            0.0  Winter  No Holiday   \n",
       "\n",
       "  Functioning Day  \n",
       "0             Yes  \n",
       "1             Yes  \n",
       "2             Yes  \n",
       "3             Yes  \n",
       "4             Yes  "
      ]
     },
     "execution_count": 103,
     "metadata": {},
     "output_type": "execute_result"
    }
   ],
   "source": [
    "data = pd.read_csv('../dataset/SeoulBikeData.csv', encoding='Windows-1252')\n",
    "data.head()"
   ]
  },
  {
   "cell_type": "markdown",
   "metadata": {},
   "source": [
    "## drop two columns \"Functioning Day\" and \"Dew point temperature°C\""
   ]
  },
  {
   "cell_type": "code",
   "execution_count": 104,
   "metadata": {},
   "outputs": [
    {
     "data": {
      "text/html": [
       "<div>\n",
       "<style scoped>\n",
       "    .dataframe tbody tr th:only-of-type {\n",
       "        vertical-align: middle;\n",
       "    }\n",
       "\n",
       "    .dataframe tbody tr th {\n",
       "        vertical-align: top;\n",
       "    }\n",
       "\n",
       "    .dataframe thead th {\n",
       "        text-align: right;\n",
       "    }\n",
       "</style>\n",
       "<table border=\"1\" class=\"dataframe\">\n",
       "  <thead>\n",
       "    <tr style=\"text-align: right;\">\n",
       "      <th></th>\n",
       "      <th>Date</th>\n",
       "      <th>Rented Bike Count</th>\n",
       "      <th>Hour</th>\n",
       "      <th>Temperature(°C)</th>\n",
       "      <th>Humidity(%)</th>\n",
       "      <th>Wind speed (m/s)</th>\n",
       "      <th>Visibility (10m)</th>\n",
       "      <th>Solar Radiation (MJ/m2)</th>\n",
       "      <th>Rainfall(mm)</th>\n",
       "      <th>Snowfall (cm)</th>\n",
       "      <th>Seasons</th>\n",
       "      <th>Holiday</th>\n",
       "    </tr>\n",
       "  </thead>\n",
       "  <tbody>\n",
       "    <tr>\n",
       "      <th>0</th>\n",
       "      <td>01/12/2017</td>\n",
       "      <td>254</td>\n",
       "      <td>0</td>\n",
       "      <td>-5.2</td>\n",
       "      <td>37</td>\n",
       "      <td>2.2</td>\n",
       "      <td>2000</td>\n",
       "      <td>0.0</td>\n",
       "      <td>0.0</td>\n",
       "      <td>0.0</td>\n",
       "      <td>Winter</td>\n",
       "      <td>No Holiday</td>\n",
       "    </tr>\n",
       "    <tr>\n",
       "      <th>1</th>\n",
       "      <td>01/12/2017</td>\n",
       "      <td>204</td>\n",
       "      <td>1</td>\n",
       "      <td>-5.5</td>\n",
       "      <td>38</td>\n",
       "      <td>0.8</td>\n",
       "      <td>2000</td>\n",
       "      <td>0.0</td>\n",
       "      <td>0.0</td>\n",
       "      <td>0.0</td>\n",
       "      <td>Winter</td>\n",
       "      <td>No Holiday</td>\n",
       "    </tr>\n",
       "    <tr>\n",
       "      <th>2</th>\n",
       "      <td>01/12/2017</td>\n",
       "      <td>173</td>\n",
       "      <td>2</td>\n",
       "      <td>-6.0</td>\n",
       "      <td>39</td>\n",
       "      <td>1.0</td>\n",
       "      <td>2000</td>\n",
       "      <td>0.0</td>\n",
       "      <td>0.0</td>\n",
       "      <td>0.0</td>\n",
       "      <td>Winter</td>\n",
       "      <td>No Holiday</td>\n",
       "    </tr>\n",
       "    <tr>\n",
       "      <th>3</th>\n",
       "      <td>01/12/2017</td>\n",
       "      <td>107</td>\n",
       "      <td>3</td>\n",
       "      <td>-6.2</td>\n",
       "      <td>40</td>\n",
       "      <td>0.9</td>\n",
       "      <td>2000</td>\n",
       "      <td>0.0</td>\n",
       "      <td>0.0</td>\n",
       "      <td>0.0</td>\n",
       "      <td>Winter</td>\n",
       "      <td>No Holiday</td>\n",
       "    </tr>\n",
       "    <tr>\n",
       "      <th>4</th>\n",
       "      <td>01/12/2017</td>\n",
       "      <td>78</td>\n",
       "      <td>4</td>\n",
       "      <td>-6.0</td>\n",
       "      <td>36</td>\n",
       "      <td>2.3</td>\n",
       "      <td>2000</td>\n",
       "      <td>0.0</td>\n",
       "      <td>0.0</td>\n",
       "      <td>0.0</td>\n",
       "      <td>Winter</td>\n",
       "      <td>No Holiday</td>\n",
       "    </tr>\n",
       "  </tbody>\n",
       "</table>\n",
       "</div>"
      ],
      "text/plain": [
       "         Date  Rented Bike Count  Hour  Temperature(°C)  Humidity(%)  \\\n",
       "0  01/12/2017                254     0             -5.2           37   \n",
       "1  01/12/2017                204     1             -5.5           38   \n",
       "2  01/12/2017                173     2             -6.0           39   \n",
       "3  01/12/2017                107     3             -6.2           40   \n",
       "4  01/12/2017                 78     4             -6.0           36   \n",
       "\n",
       "   Wind speed (m/s)  Visibility (10m)  Solar Radiation (MJ/m2)  Rainfall(mm)  \\\n",
       "0               2.2              2000                      0.0           0.0   \n",
       "1               0.8              2000                      0.0           0.0   \n",
       "2               1.0              2000                      0.0           0.0   \n",
       "3               0.9              2000                      0.0           0.0   \n",
       "4               2.3              2000                      0.0           0.0   \n",
       "\n",
       "   Snowfall (cm) Seasons     Holiday  \n",
       "0            0.0  Winter  No Holiday  \n",
       "1            0.0  Winter  No Holiday  \n",
       "2            0.0  Winter  No Holiday  \n",
       "3            0.0  Winter  No Holiday  \n",
       "4            0.0  Winter  No Holiday  "
      ]
     },
     "execution_count": 104,
     "metadata": {},
     "output_type": "execute_result"
    }
   ],
   "source": [
    "data = data.drop(columns=['Functioning Day', 'Dew point temperature(°C)'])\n",
    "data.head()"
   ]
  },
  {
   "cell_type": "markdown",
   "metadata": {},
   "source": [
    "## converting the 'Date' column to 'datetime'"
   ]
  },
  {
   "cell_type": "code",
   "execution_count": 107,
   "metadata": {},
   "outputs": [
    {
     "name": "stdout",
     "output_type": "stream",
     "text": [
      "<class 'pandas.core.frame.DataFrame'>\n",
      "RangeIndex: 8760 entries, 0 to 8759\n",
      "Data columns (total 12 columns):\n",
      " #   Column                   Non-Null Count  Dtype         \n",
      "---  ------                   --------------  -----         \n",
      " 0   Date                     8760 non-null   datetime64[ns]\n",
      " 1   Rented Bike Count        8760 non-null   int64         \n",
      " 2   Hour                     8760 non-null   int64         \n",
      " 3   Temperature(°C)          8760 non-null   float64       \n",
      " 4   Humidity(%)              8760 non-null   int64         \n",
      " 5   Wind speed (m/s)         8760 non-null   float64       \n",
      " 6   Visibility (10m)         8760 non-null   int64         \n",
      " 7   Solar Radiation (MJ/m2)  8760 non-null   float64       \n",
      " 8   Rainfall(mm)             8760 non-null   float64       \n",
      " 9   Snowfall (cm)            8760 non-null   float64       \n",
      " 10  Seasons                  8760 non-null   object        \n",
      " 11  Holiday                  8760 non-null   object        \n",
      "dtypes: datetime64[ns](1), float64(5), int64(4), object(2)\n",
      "memory usage: 821.4+ KB\n"
     ]
    }
   ],
   "source": [
    "data['Date'] = pd.to_datetime(data['Date'], dayfirst=True)\n",
    "data.info() "
   ]
  },
  {
   "cell_type": "markdown",
   "metadata": {},
   "source": [
    "## feature engineering: Divide the date into 'weekday' and 'weekend'\n",
    "## Also, we then drop the original 'Date' column"
   ]
  },
  {
   "cell_type": "code",
   "execution_count": 108,
   "metadata": {},
   "outputs": [],
   "source": [
    "data['DayType'] = data['Date'].dt.dayofweek.apply(lambda x: 'Weekend' if x >= 5 else 'Weekday')\n",
    "data.drop(columns=['Date'], inplace=True)\n"
   ]
  },
  {
   "cell_type": "code",
   "execution_count": 109,
   "metadata": {},
   "outputs": [
    {
     "name": "stdout",
     "output_type": "stream",
     "text": [
      "<class 'pandas.core.frame.DataFrame'>\n",
      "RangeIndex: 8760 entries, 0 to 8759\n",
      "Data columns (total 12 columns):\n",
      " #   Column                   Non-Null Count  Dtype  \n",
      "---  ------                   --------------  -----  \n",
      " 0   Rented Bike Count        8760 non-null   int64  \n",
      " 1   Hour                     8760 non-null   int64  \n",
      " 2   Temperature(°C)          8760 non-null   float64\n",
      " 3   Humidity(%)              8760 non-null   int64  \n",
      " 4   Wind speed (m/s)         8760 non-null   float64\n",
      " 5   Visibility (10m)         8760 non-null   int64  \n",
      " 6   Solar Radiation (MJ/m2)  8760 non-null   float64\n",
      " 7   Rainfall(mm)             8760 non-null   float64\n",
      " 8   Snowfall (cm)            8760 non-null   float64\n",
      " 9   Seasons                  8760 non-null   object \n",
      " 10  Holiday                  8760 non-null   object \n",
      " 11  DayType                  8760 non-null   object \n",
      "dtypes: float64(5), int64(4), object(3)\n",
      "memory usage: 821.4+ KB\n"
     ]
    }
   ],
   "source": [
    "data.info()"
   ]
  },
  {
   "cell_type": "markdown",
   "metadata": {},
   "source": [
    "## One-hot encoding for categorical features"
   ]
  },
  {
   "cell_type": "code",
   "execution_count": 110,
   "metadata": {},
   "outputs": [
    {
     "data": {
      "text/html": [
       "<div>\n",
       "<style scoped>\n",
       "    .dataframe tbody tr th:only-of-type {\n",
       "        vertical-align: middle;\n",
       "    }\n",
       "\n",
       "    .dataframe tbody tr th {\n",
       "        vertical-align: top;\n",
       "    }\n",
       "\n",
       "    .dataframe thead th {\n",
       "        text-align: right;\n",
       "    }\n",
       "</style>\n",
       "<table border=\"1\" class=\"dataframe\">\n",
       "  <thead>\n",
       "    <tr style=\"text-align: right;\">\n",
       "      <th></th>\n",
       "      <th>Rented Bike Count</th>\n",
       "      <th>Hour</th>\n",
       "      <th>Temperature(°C)</th>\n",
       "      <th>Humidity(%)</th>\n",
       "      <th>Wind speed (m/s)</th>\n",
       "      <th>Visibility (10m)</th>\n",
       "      <th>Solar Radiation (MJ/m2)</th>\n",
       "      <th>Rainfall(mm)</th>\n",
       "      <th>Snowfall (cm)</th>\n",
       "      <th>DayType_Weekend</th>\n",
       "      <th>Holiday_No Holiday</th>\n",
       "      <th>Seasons_Spring</th>\n",
       "      <th>Seasons_Summer</th>\n",
       "      <th>Seasons_Winter</th>\n",
       "    </tr>\n",
       "  </thead>\n",
       "  <tbody>\n",
       "    <tr>\n",
       "      <th>0</th>\n",
       "      <td>254</td>\n",
       "      <td>0</td>\n",
       "      <td>-5.2</td>\n",
       "      <td>37</td>\n",
       "      <td>2.2</td>\n",
       "      <td>2000</td>\n",
       "      <td>0.0</td>\n",
       "      <td>0.0</td>\n",
       "      <td>0.0</td>\n",
       "      <td>False</td>\n",
       "      <td>True</td>\n",
       "      <td>False</td>\n",
       "      <td>False</td>\n",
       "      <td>True</td>\n",
       "    </tr>\n",
       "    <tr>\n",
       "      <th>1</th>\n",
       "      <td>204</td>\n",
       "      <td>1</td>\n",
       "      <td>-5.5</td>\n",
       "      <td>38</td>\n",
       "      <td>0.8</td>\n",
       "      <td>2000</td>\n",
       "      <td>0.0</td>\n",
       "      <td>0.0</td>\n",
       "      <td>0.0</td>\n",
       "      <td>False</td>\n",
       "      <td>True</td>\n",
       "      <td>False</td>\n",
       "      <td>False</td>\n",
       "      <td>True</td>\n",
       "    </tr>\n",
       "    <tr>\n",
       "      <th>2</th>\n",
       "      <td>173</td>\n",
       "      <td>2</td>\n",
       "      <td>-6.0</td>\n",
       "      <td>39</td>\n",
       "      <td>1.0</td>\n",
       "      <td>2000</td>\n",
       "      <td>0.0</td>\n",
       "      <td>0.0</td>\n",
       "      <td>0.0</td>\n",
       "      <td>False</td>\n",
       "      <td>True</td>\n",
       "      <td>False</td>\n",
       "      <td>False</td>\n",
       "      <td>True</td>\n",
       "    </tr>\n",
       "    <tr>\n",
       "      <th>3</th>\n",
       "      <td>107</td>\n",
       "      <td>3</td>\n",
       "      <td>-6.2</td>\n",
       "      <td>40</td>\n",
       "      <td>0.9</td>\n",
       "      <td>2000</td>\n",
       "      <td>0.0</td>\n",
       "      <td>0.0</td>\n",
       "      <td>0.0</td>\n",
       "      <td>False</td>\n",
       "      <td>True</td>\n",
       "      <td>False</td>\n",
       "      <td>False</td>\n",
       "      <td>True</td>\n",
       "    </tr>\n",
       "    <tr>\n",
       "      <th>4</th>\n",
       "      <td>78</td>\n",
       "      <td>4</td>\n",
       "      <td>-6.0</td>\n",
       "      <td>36</td>\n",
       "      <td>2.3</td>\n",
       "      <td>2000</td>\n",
       "      <td>0.0</td>\n",
       "      <td>0.0</td>\n",
       "      <td>0.0</td>\n",
       "      <td>False</td>\n",
       "      <td>True</td>\n",
       "      <td>False</td>\n",
       "      <td>False</td>\n",
       "      <td>True</td>\n",
       "    </tr>\n",
       "  </tbody>\n",
       "</table>\n",
       "</div>"
      ],
      "text/plain": [
       "   Rented Bike Count  Hour  Temperature(°C)  Humidity(%)  Wind speed (m/s)  \\\n",
       "0                254     0             -5.2           37               2.2   \n",
       "1                204     1             -5.5           38               0.8   \n",
       "2                173     2             -6.0           39               1.0   \n",
       "3                107     3             -6.2           40               0.9   \n",
       "4                 78     4             -6.0           36               2.3   \n",
       "\n",
       "   Visibility (10m)  Solar Radiation (MJ/m2)  Rainfall(mm)  Snowfall (cm)  \\\n",
       "0              2000                      0.0           0.0            0.0   \n",
       "1              2000                      0.0           0.0            0.0   \n",
       "2              2000                      0.0           0.0            0.0   \n",
       "3              2000                      0.0           0.0            0.0   \n",
       "4              2000                      0.0           0.0            0.0   \n",
       "\n",
       "   DayType_Weekend  Holiday_No Holiday  Seasons_Spring  Seasons_Summer  \\\n",
       "0            False                True           False           False   \n",
       "1            False                True           False           False   \n",
       "2            False                True           False           False   \n",
       "3            False                True           False           False   \n",
       "4            False                True           False           False   \n",
       "\n",
       "   Seasons_Winter  \n",
       "0            True  \n",
       "1            True  \n",
       "2            True  \n",
       "3            True  \n",
       "4            True  "
      ]
     },
     "execution_count": 110,
     "metadata": {},
     "output_type": "execute_result"
    }
   ],
   "source": [
    "data = pd.get_dummies(data, columns=['DayType','Holiday', 'Seasons'], drop_first=True)\n",
    "data.head()"
   ]
  },
  {
   "cell_type": "markdown",
   "metadata": {},
   "source": [
    "## Train and test split"
   ]
  },
  {
   "cell_type": "code",
   "execution_count": 111,
   "metadata": {},
   "outputs": [
    {
     "data": {
      "text/plain": [
       "((7008, 13), (1752, 13), (7008,), (1752,))"
      ]
     },
     "execution_count": 111,
     "metadata": {},
     "output_type": "execute_result"
    }
   ],
   "source": [
    "X = data.drop('Rented Bike Count', axis=1)\n",
    "y = data['Rented Bike Count']\n",
    "\n",
    "X_train, X_test, y_train, y_test = train_test_split(X, y, test_size=0.2, random_state=42)\n",
    "X_train.shape, X_test.shape, y_train.shape, y_test.shape"
   ]
  },
  {
   "cell_type": "markdown",
   "metadata": {},
   "source": [
    "## Apply scaling and checking the dataframe shapes"
   ]
  },
  {
   "cell_type": "code",
   "execution_count": 112,
   "metadata": {},
   "outputs": [
    {
     "data": {
      "text/plain": [
       "((7008, 13), (1752, 13))"
      ]
     },
     "execution_count": 112,
     "metadata": {},
     "output_type": "execute_result"
    }
   ],
   "source": [
    "scaler = StandardScaler()\n",
    "\n",
    "X_train_scaled = scaler.fit_transform(X_train)\n",
    "X_test_scaled = scaler.transform(X_test)\n",
    "\n",
    "X_train_scaled.shape, X_test_scaled.shape"
   ]
  },
  {
   "cell_type": "markdown",
   "metadata": {},
   "source": [
    "# LINEAR REGRESSION MODEL"
   ]
  },
  {
   "cell_type": "code",
   "execution_count": 113,
   "metadata": {},
   "outputs": [
    {
     "data": {
      "image/png": "[encoded data removed]",
      "text/plain": [
       "<Figure size 1400x600 with 2 Axes>"
      ]
     },
     "metadata": {},
     "output_type": "display_data"
    },
    {
     "name": "stdout",
     "output_type": "stream",
     "text": [
      "Mean CV RMSE: 460.8359657547283\n",
      "Mean CV R-squared: 0.48835731580797936\n"
     ]
    }
   ],
   "source": [
    "from sklearn.linear_model import LinearRegression\n",
    "from sklearn.model_selection import cross_val_score\n",
    "from sklearn.metrics import make_scorer, mean_squared_error, r2_score\n",
    "import matplotlib.pyplot as plt\n",
    "import numpy as np\n",
    "\n",
    "# Initialize a Linear Regression model\n",
    "regressor = LinearRegression()\n",
    "\n",
    "# Define scorers\n",
    "mse_scorer = make_scorer(mean_squared_error, greater_is_better=False)\n",
    "r2_scorer = make_scorer(r2_score)\n",
    "\n",
    "# Perform K-Fold Cross Validation for RMSE on scaled data\n",
    "cv_mse_scores = cross_val_score(regressor, X_train_scaled, y_train, cv=10, scoring=mse_scorer)\n",
    "cv_rmse_scores = (-cv_mse_scores)**0.5\n",
    "\n",
    "# Perform K-Fold Cross Validation for R-squared on scaled data\n",
    "cv_r2_scores = cross_val_score(regressor, X_train_scaled, y_train, cv=10, scoring=r2_scorer)\n",
    "\n",
    "# Plot RMSE\n",
    "plt.figure(figsize=(14, 6))\n",
    "\n",
    "# Plot RMSE\n",
    "plt.subplot(1, 2, 1)\n",
    "plt.bar(np.arange(len(cv_rmse_scores)), cv_rmse_scores, color='skyblue')\n",
    "plt.xlabel('Fold')\n",
    "plt.ylabel('RMSE')\n",
    "plt.title('Cross-Validation RMSE Scores')\n",
    "plt.xticks(np.arange(len(cv_rmse_scores)), [f'Fold {i+1}' for i in range(len(cv_rmse_scores))])\n",
    "\n",
    "# Plot R-squared\n",
    "plt.subplot(1, 2, 2)\n",
    "plt.bar(np.arange(len(cv_r2_scores)), cv_r2_scores, color='lightgreen')\n",
    "plt.xlabel('Fold')\n",
    "plt.ylabel('R-squared')\n",
    "plt.title('Cross-Validation R-squared Scores')\n",
    "plt.xticks(np.arange(len(cv_r2_scores)), [f'Fold {i+1}' for i in range(len(cv_r2_scores))])\n",
    "\n",
    "# Show plots\n",
    "plt.tight_layout()\n",
    "plt.show()\n",
    "\n",
    "# Print mean scores\n",
    "print(\"Mean CV RMSE:\", cv_rmse_scores.mean())\n",
    "print(\"Mean CV R-squared:\", cv_r2_scores.mean())\n"
   ]
  },
  {
   "cell_type": "markdown",
   "metadata": {},
   "source": [
    "# RANDOM FOREST MODEL"
   ]
  },
  {
   "cell_type": "code",
   "execution_count": 114,
   "metadata": {},
   "outputs": [
    {
     "name": "stdout",
     "output_type": "stream",
     "text": [
      "Cross-validation RMSE scores: [255.01985919 266.48424064 256.80041849 260.06447546 300.70454244\n",
      " 228.82727761 253.17185197 239.97183992 244.82357397 316.57726829]\n",
      "Mean CV RMSE: 262.2445347963254\n",
      "Cross-validation R-squared scores: [0.8333345  0.82965966 0.83989874 0.83436018 0.7989646  0.87438787\n",
      " 0.84813376 0.86341563 0.85027567 0.75908665]\n",
      "Mean CV R-squared: 0.8331517265238944\n"
     ]
    },
    {
     "data": {
      "image/png": "[encoded data removed]",
      "text/plain": [
       "<Figure size 1400x600 with 2 Axes>"
      ]
     },
     "metadata": {},
     "output_type": "display_data"
    }
   ],
   "source": [
    "import matplotlib.pyplot as plt\n",
    "import numpy as np\n",
    "from sklearn.ensemble import RandomForestRegressor\n",
    "from sklearn.model_selection import cross_val_score\n",
    "from sklearn.metrics import make_scorer, mean_squared_error, r2_score\n",
    "\n",
    "# Initialize a Random Forest regressor\n",
    "regressor = RandomForestRegressor(random_state=42)\n",
    "\n",
    "# Define scorers\n",
    "mse_scorer = make_scorer(mean_squared_error, greater_is_better=False)\n",
    "r2_scorer = make_scorer(r2_score)\n",
    "\n",
    "# Perform K-Fold Cross Validation for RMSE\n",
    "cv_mse_scores = cross_val_score(regressor, X_train_scaled, y_train, cv=10, scoring=mse_scorer)\n",
    "cv_rmse_scores = (-cv_mse_scores)**0.5\n",
    "\n",
    "# Perform K-Fold Cross Validation for R-squared\n",
    "cv_r2_scores = cross_val_score(regressor, X_train_scaled, y_train, cv=10, scoring=r2_scorer)\n",
    "\n",
    "# Print the cross-validation scores\n",
    "print(\"Cross-validation RMSE scores:\", cv_rmse_scores)\n",
    "print(\"Mean CV RMSE:\", cv_rmse_scores.mean())\n",
    "print(\"Cross-validation R-squared scores:\", cv_r2_scores)\n",
    "print(\"Mean CV R-squared:\", cv_r2_scores.mean())\n",
    "\n",
    "# Visualization\n",
    "\n",
    "# Plot RMSE\n",
    "plt.figure(figsize=(14, 6))\n",
    "\n",
    "# Plot RMSE\n",
    "plt.subplot(1, 2, 1)\n",
    "plt.bar(np.arange(len(cv_rmse_scores)), cv_rmse_scores, color='skyblue')\n",
    "plt.xlabel('Fold')\n",
    "plt.ylabel('RMSE')\n",
    "plt.title('Cross-Validation RMSE Scores')\n",
    "plt.xticks(np.arange(len(cv_rmse_scores)), [f'Fold {i+1}' for i in range(len(cv_rmse_scores))])\n",
    "\n",
    "# Plot R-squared\n",
    "plt.subplot(1, 2, 2)\n",
    "plt.bar(np.arange(len(cv_r2_scores)), cv_r2_scores, color='lightgreen')\n",
    "plt.xlabel('Fold')\n",
    "plt.ylabel('R-squared')\n",
    "plt.title('Cross-Validation R-squared Scores')\n",
    "plt.xticks(np.arange(len(cv_r2_scores)), [f'Fold {i+1}' for i in range(len(cv_r2_scores))])\n",
    "\n",
    "# Show plots\n",
    "plt.tight_layout()\n",
    "plt.show()"
   ]
  },
  {
   "cell_type": "markdown",
   "metadata": {},
   "source": [
    "# SUPPORT VECTOR MACHINE MODEL"
   ]
  },
  {
   "cell_type": "code",
   "execution_count": 115,
   "metadata": {},
   "outputs": [
    {
     "name": "stdout",
     "output_type": "stream",
     "text": [
      "Cross-validation RMSE scores: [527.22599081 555.09252423 552.8690972  539.76721848 586.58975725\n",
      " 543.02916414 553.17269505 543.27040139 534.13341659 546.90042813]\n",
      "Mean CV RMSE: 548.2050693266225\n",
      "Cross-validation R-squared scores: [0.28765344 0.26089658 0.2579248  0.28646433 0.23499986 0.2926045\n",
      " 0.27497686 0.29997664 0.28733503 0.28101813]\n",
      "Mean CV R-squared: 0.27638501751149175\n"
     ]
    },
    {
     "data": {
      "image/png": "[encoded data removed]",
      "text/plain": [
       "<Figure size 1400x600 with 2 Axes>"
      ]
     },
     "metadata": {},
     "output_type": "display_data"
    }
   ],
   "source": [
    "import matplotlib.pyplot as plt\n",
    "import numpy as np\n",
    "from sklearn.svm import SVR\n",
    "from sklearn.model_selection import cross_val_score\n",
    "from sklearn.metrics import make_scorer, mean_squared_error, r2_score\n",
    "\n",
    "# Initialize an SVM regressor\n",
    "regressor = SVR()\n",
    "\n",
    "# Define scorers\n",
    "mse_scorer = make_scorer(mean_squared_error, greater_is_better=False)\n",
    "r2_scorer = make_scorer(r2_score)\n",
    "\n",
    "# Perform K-Fold Cross Validation for RMSE\n",
    "cv_mse_scores = cross_val_score(regressor, X_train_scaled, y_train, cv=10, scoring=mse_scorer)\n",
    "cv_rmse_scores = (-cv_mse_scores)**0.5\n",
    "\n",
    "# Perform K-Fold Cross Validation for R-squared\n",
    "cv_r2_scores = cross_val_score(regressor, X_train_scaled, y_train, cv=10, scoring=r2_scorer)\n",
    "\n",
    "# Print the cross-validation scores\n",
    "print(\"Cross-validation RMSE scores:\", cv_rmse_scores)\n",
    "print(\"Mean CV RMSE:\", cv_rmse_scores.mean())\n",
    "print(\"Cross-validation R-squared scores:\", cv_r2_scores)\n",
    "print(\"Mean CV R-squared:\", cv_r2_scores.mean())\n",
    "\n",
    "# Visualization\n",
    "\n",
    "# Plot RMSE\n",
    "plt.figure(figsize=(14, 6))\n",
    "\n",
    "# Plot RMSE\n",
    "plt.subplot(1, 2, 1)\n",
    "plt.bar(np.arange(len(cv_rmse_scores)), cv_rmse_scores, color='skyblue')\n",
    "plt.xlabel('Fold')\n",
    "plt.ylabel('RMSE')\n",
    "plt.title('Cross-Validation RMSE Scores')\n",
    "plt.xticks(np.arange(len(cv_rmse_scores)), [f'Fold {i+1}' for i in range(len(cv_rmse_scores))])\n",
    "\n",
    "# Plot R-squared\n",
    "plt.subplot(1, 2, 2)\n",
    "plt.bar(np.arange(len(cv_r2_scores)), cv_r2_scores, color='lightgreen')\n",
    "plt.xlabel('Fold')\n",
    "plt.ylabel('R-squared')\n",
    "plt.title('Cross-Validation R-squared Scores')\n",
    "plt.xticks(np.arange(len(cv_r2_scores)), [f'Fold {i+1}' for i in range(len(cv_r2_scores))])\n",
    "\n",
    "# Show plots\n",
    "plt.tight_layout()\n",
    "plt.show()"
   ]
  },
  {
   "cell_type": "markdown",
   "metadata": {},
   "source": [
    "# XGBOOST MODEL"
   ]
  },
  {
   "cell_type": "code",
   "execution_count": 116,
   "metadata": {},
   "outputs": [
    {
     "name": "stdout",
     "output_type": "stream",
     "text": [
      "Cross-validation RMSE scores: [252.56576345 272.54224263 259.17942558 259.06123671 309.73552947\n",
      " 236.26383622 266.91235981 260.70269552 241.68357728 318.06770989]\n",
      "Mean CV RMSE: 267.6714376574205\n",
      "Cross-validation R-squared scores: [0.83652676 0.82182691 0.83691864 0.83563568 0.78670798 0.86609078\n",
      " 0.83120182 0.83879761 0.85409163 0.75681288]\n",
      "Mean CV R-squared: 0.8264610679252851\n"
     ]
    },
    {
     "data": {
      "image/png": "[encoded data removed]",
      "text/plain": [
       "<Figure size 1400x600 with 2 Axes>"
      ]
     },
     "metadata": {},
     "output_type": "display_data"
    }
   ],
   "source": [
    "import matplotlib.pyplot as plt\n",
    "import numpy as np\n",
    "import xgboost as xgb\n",
    "from sklearn.model_selection import cross_val_score\n",
    "from sklearn.metrics import make_scorer, mean_squared_error, r2_score\n",
    "\n",
    "# Initialize an XGBoost regressor\n",
    "regressor = xgb.XGBRegressor(eval_metric='mlogloss', random_state=42)\n",
    "\n",
    "# Define scorers\n",
    "mse_scorer = make_scorer(mean_squared_error, greater_is_better=False)\n",
    "r2_scorer = make_scorer(r2_score)\n",
    "\n",
    "# Perform K-Fold Cross Validation for RMSE\n",
    "cv_mse_scores = cross_val_score(regressor, X_train_scaled, y_train, cv=10, scoring=mse_scorer)\n",
    "cv_rmse_scores = (-cv_mse_scores)**0.5\n",
    "\n",
    "# Perform K-Fold Cross Validation for R-squared\n",
    "cv_r2_scores = cross_val_score(regressor, X_train_scaled, y_train, cv=10, scoring=r2_scorer)\n",
    "\n",
    "# Print the cross-validation scores\n",
    "print(\"Cross-validation RMSE scores:\", cv_rmse_scores)\n",
    "print(\"Mean CV RMSE:\", cv_rmse_scores.mean())\n",
    "print(\"Cross-validation R-squared scores:\", cv_r2_scores)\n",
    "print(\"Mean CV R-squared:\", cv_r2_scores.mean())\n",
    "\n",
    "# Visualization\n",
    "\n",
    "# Plot RMSE\n",
    "plt.figure(figsize=(14, 6))\n",
    "\n",
    "# Plot RMSE\n",
    "plt.subplot(1, 2, 1)\n",
    "plt.bar(np.arange(len(cv_rmse_scores)), cv_rmse_scores, color='skyblue')\n",
    "plt.xlabel('Fold')\n",
    "plt.ylabel('RMSE')\n",
    "plt.title('Cross-Validation RMSE Scores')\n",
    "plt.xticks(np.arange(len(cv_rmse_scores)), [f'Fold {i+1}' for i in range(len(cv_rmse_scores))])\n",
    "\n",
    "# Plot R-squared\n",
    "plt.subplot(1, 2, 2)\n",
    "plt.bar(np.arange(len(cv_r2_scores)), cv_r2_scores, color='lightgreen')\n",
    "plt.xlabel('Fold')\n",
    "plt.ylabel('R-squared')\n",
    "plt.title('Cross-Validation R-squared Scores')\n",
    "plt.xticks(np.arange(len(cv_r2_scores)), [f'Fold {i+1}' for i in range(len(cv_r2_scores))])\n",
    "\n",
    "# Show plots\n",
    "plt.tight_layout()\n",
    "plt.show()"
   ]
  },
  {
   "cell_type": "markdown",
   "metadata": {},
   "source": [
    "# LIGHT GBM MODEL"
   ]
  },
  {
   "cell_type": "code",
   "execution_count": 120,
   "metadata": {},
   "outputs": [
    {
     "name": "stdout",
     "output_type": "stream",
     "text": [
      "Cross-validation RMSE scores: [251.94233249 259.73111355 251.3533912  261.21544825 290.80084627\n",
      " 230.50387269 251.54206792 237.19677777 238.66247817 318.84774853]\n",
      "Mean CV RMSE: 259.1796076843463\n",
      "Cross-validation R-squared scores: [0.8373328  0.83818365 0.84661857 0.83289079 0.81198872 0.87254043\n",
      " 0.85008273 0.86655632 0.85771661 0.75561862]\n",
      "Mean CV R-squared: 0.8369529237057609\n"
     ]
    },
    {
     "data": {
      "image/png": "[encoded data removed]",
      "text/plain": [
       "<Figure size 1400x600 with 2 Axes>"
      ]
     },
     "metadata": {},
     "output_type": "display_data"
    }
   ],
   "source": [
    "import matplotlib.pyplot as plt\n",
    "import numpy as np\n",
    "import lightgbm as lgb\n",
    "from sklearn.model_selection import cross_val_score\n",
    "from sklearn.metrics import make_scorer, mean_squared_error, r2_score\n",
    "\n",
    "# Initialize a LightGBM regressor\n",
    "regressor = lgb.LGBMRegressor(random_state=42, verbose=0)\n",
    "\n",
    "# Define scorers\n",
    "mse_scorer = make_scorer(mean_squared_error, greater_is_better=False)\n",
    "r2_scorer = make_scorer(r2_score)\n",
    "\n",
    "# Perform K-Fold Cross Validation for RMSE\n",
    "cv_mse_scores = cross_val_score(regressor, X_train_scaled, y_train, cv=10, scoring=mse_scorer)\n",
    "cv_rmse_scores = (-cv_mse_scores)**0.5\n",
    "\n",
    "# Perform K-Fold Cross Validation for R-squared\n",
    "cv_r2_scores = cross_val_score(regressor, X_train_scaled, y_train, cv=10, scoring=r2_scorer)\n",
    "\n",
    "# Print the cross-validation scores\n",
    "print(\"Cross-validation RMSE scores:\", cv_rmse_scores)\n",
    "print(\"Mean CV RMSE:\", cv_rmse_scores.mean())\n",
    "print(\"Cross-validation R-squared scores:\", cv_r2_scores)\n",
    "print(\"Mean CV R-squared:\", cv_r2_scores.mean())\n",
    "\n",
    "# Visualization\n",
    "\n",
    "# Plot RMSE\n",
    "plt.figure(figsize=(14, 6))\n",
    "\n",
    "# Plot RMSE\n",
    "plt.subplot(1, 2, 1)\n",
    "plt.bar(np.arange(len(cv_rmse_scores)), cv_rmse_scores, color='skyblue')\n",
    "plt.xlabel('Fold')\n",
    "plt.ylabel('RMSE')\n",
    "plt.title('Cross-Validation RMSE Scores')\n",
    "plt.xticks(np.arange(len(cv_rmse_scores)), [f'Fold {i+1}' for i in range(len(cv_rmse_scores))])\n",
    "\n",
    "# Plot R-squared\n",
    "plt.subplot(1, 2, 2)\n",
    "plt.bar(np.arange(len(cv_r2_scores)), cv_r2_scores, color='lightgreen')\n",
    "plt.xlabel('Fold')\n",
    "plt.ylabel('R-squared')\n",
    "plt.title('Cross-Validation R-squared Scores')\n",
    "plt.xticks(np.arange(len(cv_r2_scores)), [f'Fold {i+1}' for i in range(len(cv_r2_scores))])\n",
    "\n",
    "# Show plots\n",
    "plt.tight_layout()\n",
    "plt.show()"
   ]
  }
 ],
 "metadata": {
  "kernelspec": {
   "display_name": "base",
   "language": "python",
   "name": "python3"
  },
  "language_info": {
   "codemirror_mode": {
    "name": "ipython",
    "version": 3
   },
   "file_extension": ".py",
   "mimetype": "text/x-python",
   "name": "python",
   "nbconvert_exporter": "python",
   "pygments_lexer": "ipython3",
   "version": "3.11.7"
  }
 },
 "nbformat": 4,
 "nbformat_minor": 2
}
